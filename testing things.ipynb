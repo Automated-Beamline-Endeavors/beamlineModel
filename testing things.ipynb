{
 "cells": [
  {
   "cell_type": "code",
   "execution_count": 1,
   "metadata": {
    "ExecuteTime": {
     "end_time": "2020-07-01T14:20:25.930923Z",
     "start_time": "2020-07-01T14:20:25.339363Z"
    }
   },
   "outputs": [],
   "source": [
    "import Shadow"
   ]
  },
  {
   "cell_type": "code",
   "execution_count": 3,
   "metadata": {
    "ExecuteTime": {
     "end_time": "2020-07-01T14:22:27.295514Z",
     "start_time": "2020-07-01T14:22:27.293146Z"
    }
   },
   "outputs": [],
   "source": [
    "import beamline_sim as blsim"
   ]
  },
  {
   "cell_type": "code",
   "execution_count": 4,
   "metadata": {
    "ExecuteTime": {
     "end_time": "2020-07-01T14:22:35.145790Z",
     "start_time": "2020-07-01T14:22:34.309566Z"
    }
   },
   "outputs": [
    {
     "name": "stdout",
     "output_type": "stream",
     "text": [
      "    Running optical element: 1\n",
      "    Running optical element: 2\n",
      "    Running optical element: 3\n",
      "    Running optical element: 4\n",
      "    Running optical element: 5\n",
      "    Running optical element: 6\n"
     ]
    },
    {
     "data": {
      "text/plain": [
       "68412"
      ]
     },
     "execution_count": 4,
     "metadata": {},
     "output_type": "execute_result"
    }
   ],
   "source": [
    "blsim.sim()"
   ]
  },
  {
   "cell_type": "code",
   "execution_count": 5,
   "metadata": {
    "ExecuteTime": {
     "end_time": "2020-07-01T18:09:12.021437Z",
     "start_time": "2020-07-01T18:09:12.013273Z"
    }
   },
   "outputs": [],
   "source": [
    "import pickle"
   ]
  },
  {
   "cell_type": "code",
   "execution_count": 6,
   "metadata": {
    "ExecuteTime": {
     "end_time": "2020-07-01T18:10:04.705800Z",
     "start_time": "2020-07-01T18:10:04.653288Z"
    }
   },
   "outputs": [],
   "source": [
    "    #  O.E. positions in mm and ccw,deg initialization\n",
    "    #  plane mirror\n",
    "    class P1:\n",
    "        x = 0\n",
    "        y = 0\n",
    "        z = 0\n",
    "        xrot = 0\n",
    "        yrot = 0\n",
    "        zrot = 0\n",
    "\n",
    "    #  plane mirror\n",
    "    class P2:\n",
    "        x = 0\n",
    "        y = 0\n",
    "        z = 0\n",
    "        xrot = 0\n",
    "        yrot = 0\n",
    "        zrot = 0\n",
    "\n",
    "    #  plane mirror\n",
    "    class P3:\n",
    "        x = 0\n",
    "        y = 0\n",
    "        z = 0\n",
    "        xrot = 0\n",
    "        yrot = 0\n",
    "        zrot = 0\n",
    "\n",
    "    #  plane grating\n",
    "    class P4:\n",
    "        x = 0\n",
    "        y = 0\n",
    "        z = 0\n",
    "        xrot = 0\n",
    "        yrot = 0\n",
    "        zrot = 0\n",
    "\n",
    "    #  ellipsoid mirror\n",
    "    class P5:\n",
    "        x = 0\n",
    "        y = 0\n",
    "        z = 0\n",
    "        xrot = 0\n",
    "        yrot = 0\n",
    "        zrot = 0\n",
    "\n",
    "    #  ellipsoid mirror\n",
    "    class P6:\n",
    "        x = 0\n",
    "        y = 0\n",
    "        z = 0\n",
    "        xrot = 0\n",
    "        yrot = 0\n",
    "        zrot = 0\n",
    "\n",
    "    #\n",
    "    # Start the beam simulation\n",
    "    # initialize shadow3 source (oe0) and beam\n",
    "    #\n",
    "    beam = Shadow.Beam()\n",
    "    oe0 = Shadow.Source()\n",
    "    oe1 = Shadow.OE()\n",
    "    oe2 = Shadow.OE()\n",
    "    oe3 = Shadow.OE()\n",
    "    oe4 = Shadow.OE()\n",
    "    oe5 = Shadow.OE()\n",
    "    oe6 = Shadow.OE()\n",
    "\n",
    "    #\n",
    "    # Define variables. See meaning of variables in:\n",
    "    #  https://raw.githubusercontent.com/srio/shadow3/master/docs/source.nml\n",
    "    #  https://raw.githubusercontent.com/srio/shadow3/master/docs/oe.nml\n",
    "    #\n",
    "\n",
    "    #  undulator\n",
    "    oe0.FDISTR = 3\n",
    "    oe0.F_COLOR = 3\n",
    "    oe0.F_PHOT = 0\n",
    "    oe0.HDIV1 = 0.5\n",
    "    oe0.HDIV2 = 0.5\n",
    "    oe0.IDO_VX = 0\n",
    "    oe0.IDO_VZ = 0\n",
    "    oe0.IDO_X_S = 0\n",
    "    oe0.IDO_Y_S = 0\n",
    "    oe0.IDO_Z_S = 0\n",
    "    oe0.NPOINT = 100000\n",
    "    oe0.NTOTALPOINT = 20000\n",
    "    oe0.PH1 = 499.97\n",
    "    oe0.PH2 = 500.03\n",
    "    oe0.SIGDIX = 1.964e-05\n",
    "    oe0.SIGDIZ = 1.6349401e-05\n",
    "    oe0.SIGMAX = 0.27609399\n",
    "    oe0.SIGMAZ = 0.0261531994\n",
    "    oe0.VDIV1 = 0.5\n",
    "    oe0.VDIV2 = 0.5\n",
    "\n",
    "    #  plane mirror\n",
    "    oe1.ALPHA = 90.0\n",
    "    oe1.DUMMY = 0.1\n",
    "    oe1.FHIT_C = 1\n",
    "    oe1.FWRITE = 3\n",
    "    oe1.F_MOVE = 1\n",
    "    oe1.OFFX = P1.x\n",
    "    oe1.OFFY = P1.y\n",
    "    oe1.OFFZ = P1.z\n",
    "    oe1.RLEN1 = 260.0\n",
    "    oe1.RLEN2 = 260.0\n",
    "    oe1.RWIDX1 = 20.0\n",
    "    oe1.RWIDX2 = 20.0\n",
    "    oe1.T_IMAGE = 0.0\n",
    "    oe1.T_INCIDENCE = 89.599998\n",
    "    oe1.T_REFLECTION = 89.599998\n",
    "    oe1.T_SOURCE = 30800.0\n",
    "    oe1.X_ROT = P1.xrot\n",
    "    oe1.Y_ROT = P1.yrot\n",
    "    oe1.Z_ROT = P1.zrot\n",
    "    #  when taking into account reflectivity\n",
    "    #oe1.FILE_REFL = b\"C:/cygwin64/Oasys/Si.dat\"\n",
    "    #oe1.F_REFLEC = 1\n",
    "\n",
    "    #  plane mirror\n",
    "    oe2.DUMMY = 0.1\n",
    "    oe2.FHIT_C = 1\n",
    "    oe2.FWRITE = 3\n",
    "    oe2.F_MOVE = 1\n",
    "    oe2.OFFX = P2.x\n",
    "    oe2.OFFY = P2.y\n",
    "    oe2.OFFZ = P2.z\n",
    "    oe2.RLEN1 = 75.0\n",
    "    oe2.RLEN2 = 75.0\n",
    "    oe2.RWIDX1 = 22.5\n",
    "    oe2.RWIDX2 = 22.5\n",
    "    oe2.T_IMAGE = 0.0\n",
    "    oe2.T_INCIDENCE = 88.5\n",
    "    oe2.T_REFLECTION = 88.5\n",
    "    oe2.T_SOURCE = 500.0\n",
    "    oe2.X_ROT = P2.xrot\n",
    "    oe2.Y_ROT = P2.yrot\n",
    "    oe2.Z_ROT = P2.zrot\n",
    "    #  reflect\n",
    "    #oe2.FILE_REFL = b\"C:/cygwin64/Oasys/Si.dat\"\n",
    "    #oe2.F_REFLEC = 1\n",
    "\n",
    "    #  plane mirror\n",
    "    oe3.ALPHA = 90.0\n",
    "    oe3.DUMMY = 0.1\n",
    "    oe3.FHIT_C = 1\n",
    "    oe3.FWRITE = 3\n",
    "    oe3.F_MOVE = 1\n",
    "    oe3.OFFX = P3.x\n",
    "    oe3.OFFY = P3.y\n",
    "    oe3.OFFZ = P3.z\n",
    "    oe3.RLEN1 = 190.0\n",
    "    oe3.RLEN2 = 190.0\n",
    "    oe3.RWIDX1 = 15.0\n",
    "    oe3.RWIDX2 = 15.0\n",
    "    oe3.T_IMAGE = 0.0\n",
    "    oe3.T_INCIDENCE = 86.810772\n",
    "    oe3.T_REFLECTION = 86.810772\n",
    "    oe3.T_SOURCE = 8265.8165\n",
    "    oe3.X_ROT = P3.xrot\n",
    "    oe3.Y_ROT = P3.yrot\n",
    "    oe3.Z_ROT = P3.zrot\n",
    "    #  reflect\n",
    "    #oe3.FILE_REFL = b\"C:/cygwin64/Oasys/Si.dat\"\n",
    "    #oe3.F_REFLEC = 1\n",
    "\n",
    "    #  plane grating\n",
    "    oe4.ALPHA = 180.0\n",
    "    oe4.DUMMY = 0.1\n",
    "    oe4.FHIT_C = 1\n",
    "    oe4.FWRITE = 2\n",
    "    oe4.F_GRATING = 1\n",
    "    oe4.F_MOVE = 1\n",
    "    oe4.F_RULING = 5\n",
    "    oe4.F_RUL_ABS = 1\n",
    "    oe4.OFFX = P4.x\n",
    "    oe4.OFFY = P4.y\n",
    "    oe4.OFFZ = P4.z\n",
    "    oe4.RLEN1 = 57.5\n",
    "    oe4.RLEN2 = 57.5\n",
    "    oe4.RULING = 1199.22002\n",
    "    oe4.RUL_A1 = 0.165491998\n",
    "    oe4.RUL_A2 = 1.0793e-05\n",
    "    oe4.RUL_A3 = 1.99999999e-06\n",
    "    oe4.RWIDX1 = 12.5\n",
    "    oe4.RWIDX2 = 12.5\n",
    "    oe4.T_IMAGE = 2000.0\n",
    "    oe4.T_INCIDENCE = 87.771697\n",
    "    oe4.T_REFLECTION = 85.049847\n",
    "    oe4.T_SOURCE = 135.0\n",
    "    oe4.X_ROT = P4.xrot\n",
    "    oe4.Y_ROT = P4.yrot\n",
    "    oe4.Z_ROT = P4.zrot\n",
    "\n",
    "    #  ellipsoid mirror oe6 -> oe5 after removing slit\n",
    "    oe5.ALPHA = 90.0\n",
    "    oe5.AXMAJ = 33150.0\n",
    "    oe5.AXMIN = 296.85199\n",
    "    oe5.DUMMY = 0.1\n",
    "    oe5.ELL_THE = 0.186719999\n",
    "    oe5.FCYL = 1\n",
    "    oe5.FHIT_C = 1\n",
    "    oe5.FMIRR = 2\n",
    "    oe5.FWRITE = 3\n",
    "    oe5.F_EXT = 1\n",
    "    oe5.F_MOVE = 1\n",
    "    oe5.OFFX = P5.x\n",
    "    oe5.OFFY = P5.y\n",
    "    oe5.OFFZ = P5.z\n",
    "    oe5.RLEN1 = 140.0\n",
    "    oe5.RLEN2 = 140.0\n",
    "    oe5.RWIDX1 = 7.5\n",
    "    oe5.RWIDX2 = 7.5\n",
    "    oe5.T_IMAGE = 0.0\n",
    "    oe5.T_INCIDENCE = 88.5\n",
    "    oe5.T_REFLECTION = 88.5\n",
    "    oe5.T_SOURCE = 4600.0\n",
    "    oe5.X_ROT = P5.xrot\n",
    "    oe5.Y_ROT = P5.yrot\n",
    "    oe5.Z_ROT = P5.zrot\n",
    "    #  reflect\n",
    "    #oe6.FILE_REFL = b\"C:/cygwin64/Oasys/Si.dat\"\n",
    "    #oe6.F_REFLEC = 1\n",
    "\n",
    "    #  ellipsoid mirror oe7 -> oe6 after removing slit\n",
    "    oe6.ALPHA = 90.0\n",
    "    oe6.AXMAJ = 3300.0\n",
    "    oe6.AXMIN = 66.6355972\n",
    "    oe6.DUMMY = 0.1\n",
    "    oe6.ELL_THE = 1.40167999\n",
    "    oe6.FCYL = 1\n",
    "    oe6.FHIT_C = 1\n",
    "    oe6.FMIRR = 2\n",
    "    oe6.FWRITE = 3\n",
    "    oe6.F_EXT = 1\n",
    "    oe6.F_MOVE = 1\n",
    "    oe6.OFFX = P6.x\n",
    "    oe6.OFFY = P6.y\n",
    "    oe6.OFFZ = P6.z\n",
    "    oe6.RLEN1 = 35.0\n",
    "    oe6.RLEN2 = 35.0\n",
    "    oe6.RWIDX1 = 10.0\n",
    "    oe6.RWIDX2 = 10.0\n",
    "    oe6.T_IMAGE = 1200.0\n",
    "    oe6.T_INCIDENCE = 88.5\n",
    "    oe6.T_REFLECTION = 88.5\n",
    "    oe6.T_SOURCE = 800.0\n",
    "    oe6.X_ROT = P6.xrot\n",
    "    oe6.Y_ROT = P6.yrot\n",
    "    oe6.Z_ROT = P6.zrot\n",
    "    #  reflect"
   ]
  },
  {
   "cell_type": "code",
   "execution_count": 11,
   "metadata": {
    "ExecuteTime": {
     "end_time": "2020-07-01T18:16:19.578723Z",
     "start_time": "2020-07-01T18:16:19.565536Z"
    }
   },
   "outputs": [
    {
     "ename": "TypeError",
     "evalue": "can't pickle OE objects",
     "output_type": "error",
     "traceback": [
      "\u001b[0;31m---------------------------------------------------------------------------\u001b[0m",
      "\u001b[0;31mTypeError\u001b[0m                                 Traceback (most recent call last)",
      "\u001b[0;32m<ipython-input-11-8730f9475122>\u001b[0m in \u001b[0;36m<module>\u001b[0;34m\u001b[0m\n\u001b[1;32m      3\u001b[0m \u001b[0mdata\u001b[0m \u001b[0;34m=\u001b[0m \u001b[0;34m[\u001b[0m\u001b[0moe0\u001b[0m\u001b[0;34m,\u001b[0m \u001b[0moe1\u001b[0m\u001b[0;34m,\u001b[0m \u001b[0moe2\u001b[0m\u001b[0;34m,\u001b[0m \u001b[0moe3\u001b[0m\u001b[0;34m,\u001b[0m \u001b[0moe4\u001b[0m\u001b[0;34m,\u001b[0m \u001b[0moe5\u001b[0m\u001b[0;34m,\u001b[0m \u001b[0moe6\u001b[0m\u001b[0;34m]\u001b[0m\u001b[0;34m\u001b[0m\u001b[0;34m\u001b[0m\u001b[0m\n\u001b[1;32m      4\u001b[0m \u001b[0;32mwith\u001b[0m \u001b[0mopen\u001b[0m\u001b[0;34m(\u001b[0m\u001b[0mPIK\u001b[0m\u001b[0;34m,\u001b[0m \u001b[0;34m\"wb\"\u001b[0m\u001b[0;34m)\u001b[0m \u001b[0;32mas\u001b[0m \u001b[0mf\u001b[0m\u001b[0;34m:\u001b[0m\u001b[0;34m\u001b[0m\u001b[0;34m\u001b[0m\u001b[0m\n\u001b[0;32m----> 5\u001b[0;31m     \u001b[0mpickle\u001b[0m\u001b[0;34m.\u001b[0m\u001b[0mdump\u001b[0m\u001b[0;34m(\u001b[0m\u001b[0moe1\u001b[0m\u001b[0;34m,\u001b[0m \u001b[0mf\u001b[0m\u001b[0;34m,\u001b[0m \u001b[0;34m-\u001b[0m\u001b[0;36m1\u001b[0m\u001b[0;34m)\u001b[0m\u001b[0;34m\u001b[0m\u001b[0;34m\u001b[0m\u001b[0m\n\u001b[0m\u001b[1;32m      6\u001b[0m \u001b[0;32mwith\u001b[0m \u001b[0mopen\u001b[0m\u001b[0;34m(\u001b[0m\u001b[0mPIK\u001b[0m\u001b[0;34m,\u001b[0m \u001b[0;34m\"rb\"\u001b[0m\u001b[0;34m)\u001b[0m \u001b[0;32mas\u001b[0m \u001b[0mf\u001b[0m\u001b[0;34m:\u001b[0m\u001b[0;34m\u001b[0m\u001b[0;34m\u001b[0m\u001b[0m\n\u001b[1;32m      7\u001b[0m     \u001b[0mprint\u001b[0m\u001b[0;34m(\u001b[0m\u001b[0mpickle\u001b[0m\u001b[0;34m.\u001b[0m\u001b[0mload\u001b[0m\u001b[0;34m(\u001b[0m\u001b[0mf\u001b[0m\u001b[0;34m)\u001b[0m\u001b[0;34m)\u001b[0m\u001b[0;34m\u001b[0m\u001b[0;34m\u001b[0m\u001b[0m\n",
      "\u001b[0;31mTypeError\u001b[0m: can't pickle OE objects"
     ]
    }
   ],
   "source": [
    "PIK = \"pickle.dat\"\n",
    "\n",
    "data = [oe0, oe1, oe2, oe3, oe4, oe5, oe6]\n",
    "with open(PIK, \"wb\") as f:\n",
    "    pickle.dump(oe1, f, -1)\n",
    "with open(PIK, \"rb\") as f:\n",
    "    print(pickle.load(f))"
   ]
  },
  {
   "cell_type": "code",
   "execution_count": 9,
   "metadata": {
    "ExecuteTime": {
     "end_time": "2020-07-01T18:13:24.661999Z",
     "start_time": "2020-07-01T18:13:24.658470Z"
    }
   },
   "outputs": [
    {
     "data": {
      "text/plain": [
       "[<Shadow.ShadowLibExtensions.Source at 0x55b348444da0>,\n",
       " <Shadow.ShadowLibExtensions.OE at 0x55b34847af70>,\n",
       " <Shadow.ShadowLibExtensions.OE at 0x55b348483760>,\n",
       " <Shadow.ShadowLibExtensions.OE at 0x55b34848bf50>,\n",
       " <Shadow.ShadowLibExtensions.OE at 0x55b348494740>,\n",
       " <Shadow.ShadowLibExtensions.OE at 0x55b34849cf30>,\n",
       " <Shadow.ShadowLibExtensions.OE at 0x55b3484a5720>]"
      ]
     },
     "execution_count": 9,
     "metadata": {},
     "output_type": "execute_result"
    }
   ],
   "source": [
    "data"
   ]
  },
  {
   "cell_type": "code",
   "execution_count": 12,
   "metadata": {
    "ExecuteTime": {
     "end_time": "2020-07-01T18:25:20.476533Z",
     "start_time": "2020-07-01T18:25:20.460329Z"
    }
   },
   "outputs": [
    {
     "data": {
      "text/plain": [
       "<Shadow.ShadowLibExtensions.Source at 0x55b348444da0>"
      ]
     },
     "execution_count": 12,
     "metadata": {},
     "output_type": "execute_result"
    }
   ],
   "source": [
    "oe0"
   ]
  },
  {
   "cell_type": "code",
   "execution_count": 13,
   "metadata": {
    "ExecuteTime": {
     "end_time": "2020-07-01T18:25:26.418924Z",
     "start_time": "2020-07-01T18:25:26.407188Z"
    }
   },
   "outputs": [],
   "source": [
    "?oe0"
   ]
  },
  {
   "cell_type": "code",
   "execution_count": null,
   "metadata": {},
   "outputs": [],
   "source": []
  }
 ],
 "metadata": {
  "kernelspec": {
   "display_name": "Python 3",
   "language": "python",
   "name": "python3"
  },
  "language_info": {
   "codemirror_mode": {
    "name": "ipython",
    "version": 3
   },
   "file_extension": ".py",
   "mimetype": "text/x-python",
   "name": "python",
   "nbconvert_exporter": "python",
   "pygments_lexer": "ipython3",
   "version": "3.7.4"
  }
 },
 "nbformat": 4,
 "nbformat_minor": 2
}
